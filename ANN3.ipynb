{
  "nbformat": 4,
  "nbformat_minor": 0,
  "metadata": {
    "colab": {
      "name": "ANN3.ipynb",
      "provenance": [],
      "collapsed_sections": []
    },
    "kernelspec": {
      "name": "python3",
      "display_name": "Python 3"
    },
    "accelerator": "GPU"
  },
  "cells": [
    {
      "cell_type": "code",
      "metadata": {
        "id": "HPKVT1XO_eZ_",
        "colab_type": "code",
        "outputId": "7729b3e2-7e36-451f-9f9a-8d7ecb571c97",
        "colab": {
          "base_uri": "https://localhost:8080/",
          "height": 63
        }
      },
      "source": [
        "from tensorflow.keras.datasets import cifar10"
      ],
      "execution_count": 0,
      "outputs": [
        {
          "output_type": "display_data",
          "data": {
            "text/html": [
              "<p style=\"color: red;\">\n",
              "The default version of TensorFlow in Colab will soon switch to TensorFlow 2.x.<br>\n",
              "We recommend you <a href=\"https://www.tensorflow.org/guide/migrate\" target=\"_blank\">upgrade</a> now \n",
              "or ensure your notebook will continue to use TensorFlow 1.x via the <code>%tensorflow_version 1.x</code> magic:\n",
              "<a href=\"https://colab.research.google.com/notebooks/tensorflow_version.ipynb\" target=\"_blank\">more info</a>.</p>\n"
            ],
            "text/plain": [
              "<IPython.core.display.HTML object>"
            ]
          },
          "metadata": {
            "tags": []
          }
        }
      ]
    },
    {
      "cell_type": "code",
      "metadata": {
        "id": "3D0Tz85__psd",
        "colab_type": "code",
        "colab": {}
      },
      "source": [
        "#importing libraries\n",
        "import numpy as np\n",
        "import matplotlib.pyplot as plt\n",
        "import pandas as pd\n",
        "import tensorflow as tf\n",
        "from sklearn.model_selection import train_test_split\n",
        "from tensorflow.keras.models import Sequential\n",
        "from tensorflow.keras.layers import Dense, Dropout, BatchNormalization\n",
        "from sklearn.metrics import confusion_matrix\n",
        "LRelu = tf.keras.layers.LeakyReLU(alpha = 0.3)\n"
      ],
      "execution_count": 0,
      "outputs": []
    },
    {
      "cell_type": "code",
      "metadata": {
        "id": "9j-1VL88_80v",
        "colab_type": "code",
        "outputId": "f543ec14-a112-45ef-973e-6a23579d97cc",
        "colab": {
          "base_uri": "https://localhost:8080/",
          "height": 51
        }
      },
      "source": [
        "(x_train,y_train),(x_test,y_test) = cifar10.load_data()     #these x_train,y_train are just names we can provide any name"
      ],
      "execution_count": 0,
      "outputs": [
        {
          "output_type": "stream",
          "text": [
            "Downloading data from https://www.cs.toronto.edu/~kriz/cifar-10-python.tar.gz\n",
            "170500096/170498071 [==============================] - 4s 0us/step\n"
          ],
          "name": "stdout"
        }
      ]
    },
    {
      "cell_type": "code",
      "metadata": {
        "id": "KjRRbQCaAHdT",
        "colab_type": "code",
        "outputId": "a30e8b01-b7c6-4eb6-81c6-87eeca3090b8",
        "colab": {
          "base_uri": "https://localhost:8080/",
          "height": 34
        }
      },
      "source": [
        "x_train.shape"
      ],
      "execution_count": 0,
      "outputs": [
        {
          "output_type": "execute_result",
          "data": {
            "text/plain": [
              "(50000, 32, 32, 3)"
            ]
          },
          "metadata": {
            "tags": []
          },
          "execution_count": 4
        }
      ]
    },
    {
      "cell_type": "code",
      "metadata": {
        "id": "TbeWkW2fAOoM",
        "colab_type": "code",
        "colab": {}
      },
      "source": [
        "x_train = x_train.reshape((x_train.shape[0], x_train.shape[1]*x_train.shape[2]*x_train.shape[3]))"
      ],
      "execution_count": 0,
      "outputs": []
    },
    {
      "cell_type": "code",
      "metadata": {
        "id": "gMggBRycBA7X",
        "colab_type": "code",
        "outputId": "51e04fc6-5166-4f06-9903-ee073d23a275",
        "colab": {
          "base_uri": "https://localhost:8080/",
          "height": 34
        }
      },
      "source": [
        "x_train.shape"
      ],
      "execution_count": 0,
      "outputs": [
        {
          "output_type": "execute_result",
          "data": {
            "text/plain": [
              "(50000, 3072)"
            ]
          },
          "metadata": {
            "tags": []
          },
          "execution_count": 6
        }
      ]
    },
    {
      "cell_type": "code",
      "metadata": {
        "id": "EUzwccP_BDYd",
        "colab_type": "code",
        "outputId": "8ed34d2a-bcd9-4408-e616-d6c33072b53d",
        "colab": {
          "base_uri": "https://localhost:8080/",
          "height": 34
        }
      },
      "source": [
        "y_train.shape"
      ],
      "execution_count": 0,
      "outputs": [
        {
          "output_type": "execute_result",
          "data": {
            "text/plain": [
              "(50000, 1)"
            ]
          },
          "metadata": {
            "tags": []
          },
          "execution_count": 7
        }
      ]
    },
    {
      "cell_type": "code",
      "metadata": {
        "id": "TIoMyCYkBcrF",
        "colab_type": "code",
        "colab": {}
      },
      "source": [
        "y_train = y_train.reshape((50000))"
      ],
      "execution_count": 0,
      "outputs": []
    },
    {
      "cell_type": "code",
      "metadata": {
        "id": "K39IbAdCB6ph",
        "colab_type": "code",
        "outputId": "6764bfb2-10f5-49c4-b07d-c000542a78fc",
        "colab": {
          "base_uri": "https://localhost:8080/",
          "height": 34
        }
      },
      "source": [
        "y_train.shape"
      ],
      "execution_count": 0,
      "outputs": [
        {
          "output_type": "execute_result",
          "data": {
            "text/plain": [
              "(50000,)"
            ]
          },
          "metadata": {
            "tags": []
          },
          "execution_count": 9
        }
      ]
    },
    {
      "cell_type": "code",
      "metadata": {
        "id": "BgY4dRMxC2EW",
        "colab_type": "code",
        "outputId": "6476f45a-c238-4897-a404-354448679393",
        "colab": {
          "base_uri": "https://localhost:8080/",
          "height": 34
        }
      },
      "source": [
        "set(y_train)"
      ],
      "execution_count": 0,
      "outputs": [
        {
          "output_type": "execute_result",
          "data": {
            "text/plain": [
              "{0, 1, 2, 3, 4, 5, 6, 7, 8, 9}"
            ]
          },
          "metadata": {
            "tags": []
          },
          "execution_count": 10
        }
      ]
    },
    {
      "cell_type": "code",
      "metadata": {
        "id": "gIfBb76UC1-s",
        "colab_type": "code",
        "colab": {}
      },
      "source": [
        ""
      ],
      "execution_count": 0,
      "outputs": []
    },
    {
      "cell_type": "code",
      "metadata": {
        "id": "DoJmucReB8I4",
        "colab_type": "code",
        "outputId": "3ebc1e61-a26e-4b40-874d-3a488fc010e4",
        "colab": {
          "base_uri": "https://localhost:8080/",
          "height": 88
        }
      },
      "source": [
        "model = Sequential()\n",
        "model.add(Dense(32, input_dim = 3072, activation='relu'))\n",
        "model.add(BatchNormalization())\n",
        "model.add(Dropout(0.2))\n",
        "model.add(Dense(64,activation = 'relu'))\n",
        "model.add(BatchNormalization())\n",
        "model.add(Dropout(0.2))\n",
        "model.add(Dense(64, activation=LRelu))\n",
        "model.add(Dense(64, activation = LRelu))\n",
        "model.add(Dense(10, activation = 'softmax'))"
      ],
      "execution_count": 0,
      "outputs": [
        {
          "output_type": "stream",
          "text": [
            "WARNING:tensorflow:From /usr/local/lib/python3.6/dist-packages/tensorflow_core/python/ops/resource_variable_ops.py:1630: calling BaseResourceVariable.__init__ (from tensorflow.python.ops.resource_variable_ops) with constraint is deprecated and will be removed in a future version.\n",
            "Instructions for updating:\n",
            "If using Keras pass *_constraint arguments to layers.\n"
          ],
          "name": "stdout"
        }
      ]
    },
    {
      "cell_type": "code",
      "metadata": {
        "id": "VG-JtkLfCxX1",
        "colab_type": "code",
        "colab": {}
      },
      "source": [
        "#compile the keras model    #so its binary we use binary_crossentropy..if it is multiclass we use categorical_crossentropy\n",
        "model.compile(loss = 'sparse_categorical_crossentropy',optimizer = 'adam',metrics = ['sparse_categorical_accuracy'])   #instead of accuracy we can use sparse_categorical_accuracy\n",
        "#sparse_categorical_crossentropy is used when the input has more zeros"
      ],
      "execution_count": 0,
      "outputs": []
    },
    {
      "cell_type": "code",
      "metadata": {
        "id": "eMF_jChzEEam",
        "colab_type": "code",
        "colab": {}
      },
      "source": [
        "model = Sequential()\n",
        "model.add(Dense(1000, input_dim = 3072, activation='relu'))\n",
        "model.add(BatchNormalization())\n",
        "model.add(Dropout(0.2))\n",
        "model.add(Dense(1000,activation = 'relu'))\n",
        "model.add(BatchNormalization())\n",
        "model.add(Dropout(0.2))\n",
        "model.add(Dense(1000,activation = 'relu'))\n",
        "model.add(BatchNormalization())\n",
        "model.add(Dropout(0.2))\n",
        "model.add(Dense(1000, activation = LRelu))\n",
        "model.add(Dense(1000, activation = LRelu))\n",
        "model.add(Dense(10, activation = 'softmax'))"
      ],
      "execution_count": 0,
      "outputs": []
    },
    {
      "cell_type": "code",
      "metadata": {
        "id": "QAd3c71iHCOY",
        "colab_type": "code",
        "colab": {}
      },
      "source": [
        "#compile the keras model    #so its binary we use binary_crossentropy..if it is multiclass we use categorical_crossentropy\n",
        "model.compile(loss = 'sparse_categorical_crossentropy',optimizer = 'adam',metrics = ['sparse_categorical_accuracy'])   #instead of accuracy we can use sparse_categorical_accuracy\n",
        "#sparse_categorical_crossentropy is used when the input has more zeros"
      ],
      "execution_count": 0,
      "outputs": []
    },
    {
      "cell_type": "code",
      "metadata": {
        "id": "ofPcbUsqH7sf",
        "colab_type": "code",
        "outputId": "2a9469aa-0e86-485b-be24-b52e290b27e6",
        "colab": {
          "base_uri": "https://localhost:8080/",
          "height": 1000
        }
      },
      "source": [
        "%%time\n",
        "# fit the keras_model on the dataset\n",
        "model.fit(x_train,y_train, epochs = 100, batch_size = 128)"
      ],
      "execution_count": 0,
      "outputs": [
        {
          "output_type": "stream",
          "text": [
            "Train on 50000 samples\n",
            "Epoch 1/100\n",
            "50000/50000 [==============================] - 4s 71us/sample - loss: 1.8773 - sparse_categorical_accuracy: 0.3458\n",
            "Epoch 2/100\n",
            "50000/50000 [==============================] - 3s 63us/sample - loss: 1.6411 - sparse_categorical_accuracy: 0.4138\n",
            "Epoch 3/100\n",
            "50000/50000 [==============================] - 3s 63us/sample - loss: 1.5865 - sparse_categorical_accuracy: 0.4335\n",
            "Epoch 4/100\n",
            "50000/50000 [==============================] - 3s 63us/sample - loss: 1.5413 - sparse_categorical_accuracy: 0.4480\n",
            "Epoch 5/100\n",
            "50000/50000 [==============================] - 3s 63us/sample - loss: 1.4950 - sparse_categorical_accuracy: 0.4653\n",
            "Epoch 6/100\n",
            "50000/50000 [==============================] - 3s 63us/sample - loss: 1.4623 - sparse_categorical_accuracy: 0.4772\n",
            "Epoch 7/100\n",
            "50000/50000 [==============================] - 3s 61us/sample - loss: 1.4340 - sparse_categorical_accuracy: 0.4865\n",
            "Epoch 8/100\n",
            "50000/50000 [==============================] - 3s 62us/sample - loss: 1.4117 - sparse_categorical_accuracy: 0.4927\n",
            "Epoch 9/100\n",
            "50000/50000 [==============================] - 3s 63us/sample - loss: 1.3839 - sparse_categorical_accuracy: 0.5034\n",
            "Epoch 10/100\n",
            "50000/50000 [==============================] - 3s 64us/sample - loss: 1.3553 - sparse_categorical_accuracy: 0.5140\n",
            "Epoch 11/100\n",
            "50000/50000 [==============================] - 3s 63us/sample - loss: 1.3371 - sparse_categorical_accuracy: 0.5214\n",
            "Epoch 12/100\n",
            "50000/50000 [==============================] - 3s 65us/sample - loss: 1.3171 - sparse_categorical_accuracy: 0.5272\n",
            "Epoch 13/100\n",
            "50000/50000 [==============================] - 3s 64us/sample - loss: 1.2952 - sparse_categorical_accuracy: 0.5394\n",
            "Epoch 14/100\n",
            "50000/50000 [==============================] - 3s 63us/sample - loss: 1.2760 - sparse_categorical_accuracy: 0.5452\n",
            "Epoch 15/100\n",
            "50000/50000 [==============================] - 3s 61us/sample - loss: 1.2644 - sparse_categorical_accuracy: 0.5504\n",
            "Epoch 16/100\n",
            "50000/50000 [==============================] - 3s 63us/sample - loss: 1.2361 - sparse_categorical_accuracy: 0.5573\n",
            "Epoch 17/100\n",
            "50000/50000 [==============================] - 3s 61us/sample - loss: 1.2230 - sparse_categorical_accuracy: 0.5610\n",
            "Epoch 18/100\n",
            "50000/50000 [==============================] - 3s 61us/sample - loss: 1.2082 - sparse_categorical_accuracy: 0.5670\n",
            "Epoch 19/100\n",
            "50000/50000 [==============================] - 3s 61us/sample - loss: 1.1983 - sparse_categorical_accuracy: 0.5722\n",
            "Epoch 20/100\n",
            "50000/50000 [==============================] - 3s 63us/sample - loss: 1.1820 - sparse_categorical_accuracy: 0.5758\n",
            "Epoch 21/100\n",
            "50000/50000 [==============================] - 3s 60us/sample - loss: 1.1776 - sparse_categorical_accuracy: 0.5762\n",
            "Epoch 22/100\n",
            "50000/50000 [==============================] - 3s 62us/sample - loss: 1.1597 - sparse_categorical_accuracy: 0.5809\n",
            "Epoch 23/100\n",
            "50000/50000 [==============================] - 3s 61us/sample - loss: 1.1398 - sparse_categorical_accuracy: 0.5910\n",
            "Epoch 24/100\n",
            "50000/50000 [==============================] - 3s 61us/sample - loss: 1.1300 - sparse_categorical_accuracy: 0.5953\n",
            "Epoch 25/100\n",
            "50000/50000 [==============================] - 3s 61us/sample - loss: 1.1127 - sparse_categorical_accuracy: 0.6009\n",
            "Epoch 26/100\n",
            "50000/50000 [==============================] - 3s 61us/sample - loss: 1.0956 - sparse_categorical_accuracy: 0.6075\n",
            "Epoch 27/100\n",
            "50000/50000 [==============================] - 3s 61us/sample - loss: 1.0863 - sparse_categorical_accuracy: 0.6076\n",
            "Epoch 28/100\n",
            "50000/50000 [==============================] - 3s 63us/sample - loss: 1.0713 - sparse_categorical_accuracy: 0.6146\n",
            "Epoch 29/100\n",
            "50000/50000 [==============================] - 3s 64us/sample - loss: 1.0635 - sparse_categorical_accuracy: 0.6190\n",
            "Epoch 30/100\n",
            "50000/50000 [==============================] - 3s 62us/sample - loss: 1.0490 - sparse_categorical_accuracy: 0.6231\n",
            "Epoch 31/100\n",
            "50000/50000 [==============================] - 3s 62us/sample - loss: 1.0342 - sparse_categorical_accuracy: 0.6278\n",
            "Epoch 32/100\n",
            "50000/50000 [==============================] - 3s 62us/sample - loss: 1.0181 - sparse_categorical_accuracy: 0.6354\n",
            "Epoch 33/100\n",
            "50000/50000 [==============================] - 3s 61us/sample - loss: 1.0184 - sparse_categorical_accuracy: 0.6340\n",
            "Epoch 34/100\n",
            "50000/50000 [==============================] - 3s 61us/sample - loss: 1.0003 - sparse_categorical_accuracy: 0.6405\n",
            "Epoch 35/100\n",
            "50000/50000 [==============================] - 3s 62us/sample - loss: 0.9847 - sparse_categorical_accuracy: 0.6448\n",
            "Epoch 36/100\n",
            "50000/50000 [==============================] - 3s 62us/sample - loss: 0.9738 - sparse_categorical_accuracy: 0.6471\n",
            "Epoch 37/100\n",
            "50000/50000 [==============================] - 3s 60us/sample - loss: 0.9609 - sparse_categorical_accuracy: 0.6550\n",
            "Epoch 38/100\n",
            "50000/50000 [==============================] - 3s 61us/sample - loss: 0.9449 - sparse_categorical_accuracy: 0.6585\n",
            "Epoch 39/100\n",
            "50000/50000 [==============================] - 3s 62us/sample - loss: 0.9480 - sparse_categorical_accuracy: 0.6565\n",
            "Epoch 40/100\n",
            "50000/50000 [==============================] - 3s 63us/sample - loss: 0.9354 - sparse_categorical_accuracy: 0.6627\n",
            "Epoch 41/100\n",
            "50000/50000 [==============================] - 3s 63us/sample - loss: 0.9235 - sparse_categorical_accuracy: 0.6676\n",
            "Epoch 42/100\n",
            "50000/50000 [==============================] - 3s 62us/sample - loss: 0.9073 - sparse_categorical_accuracy: 0.6713\n",
            "Epoch 43/100\n",
            "50000/50000 [==============================] - 3s 63us/sample - loss: 0.8999 - sparse_categorical_accuracy: 0.6765\n",
            "Epoch 44/100\n",
            "50000/50000 [==============================] - 3s 63us/sample - loss: 0.8991 - sparse_categorical_accuracy: 0.6763\n",
            "Epoch 45/100\n",
            "50000/50000 [==============================] - 3s 61us/sample - loss: 0.8898 - sparse_categorical_accuracy: 0.6780\n",
            "Epoch 46/100\n",
            "50000/50000 [==============================] - 3s 61us/sample - loss: 0.8899 - sparse_categorical_accuracy: 0.6805\n",
            "Epoch 47/100\n",
            "50000/50000 [==============================] - 3s 63us/sample - loss: 0.8704 - sparse_categorical_accuracy: 0.6871\n",
            "Epoch 48/100\n",
            "50000/50000 [==============================] - 3s 64us/sample - loss: 0.8636 - sparse_categorical_accuracy: 0.6895\n",
            "Epoch 49/100\n",
            "50000/50000 [==============================] - 3s 61us/sample - loss: 0.8635 - sparse_categorical_accuracy: 0.6901\n",
            "Epoch 50/100\n",
            "50000/50000 [==============================] - 3s 62us/sample - loss: 0.8493 - sparse_categorical_accuracy: 0.6933\n",
            "Epoch 51/100\n",
            "50000/50000 [==============================] - 3s 62us/sample - loss: 0.8346 - sparse_categorical_accuracy: 0.6983\n",
            "Epoch 52/100\n",
            "50000/50000 [==============================] - 3s 61us/sample - loss: 0.8260 - sparse_categorical_accuracy: 0.7017\n",
            "Epoch 53/100\n",
            "50000/50000 [==============================] - 3s 61us/sample - loss: 0.8217 - sparse_categorical_accuracy: 0.7025\n",
            "Epoch 54/100\n",
            "50000/50000 [==============================] - 3s 61us/sample - loss: 0.8147 - sparse_categorical_accuracy: 0.7045\n",
            "Epoch 55/100\n",
            "50000/50000 [==============================] - 3s 61us/sample - loss: 0.8045 - sparse_categorical_accuracy: 0.7076\n",
            "Epoch 56/100\n",
            "50000/50000 [==============================] - 3s 60us/sample - loss: 0.8010 - sparse_categorical_accuracy: 0.7113\n",
            "Epoch 57/100\n",
            "50000/50000 [==============================] - 3s 60us/sample - loss: 0.7903 - sparse_categorical_accuracy: 0.7141\n",
            "Epoch 58/100\n",
            "50000/50000 [==============================] - 3s 62us/sample - loss: 0.7807 - sparse_categorical_accuracy: 0.7170\n",
            "Epoch 59/100\n",
            "50000/50000 [==============================] - 3s 62us/sample - loss: 0.7725 - sparse_categorical_accuracy: 0.7175\n",
            "Epoch 60/100\n",
            "50000/50000 [==============================] - 3s 62us/sample - loss: 0.7717 - sparse_categorical_accuracy: 0.7216\n",
            "Epoch 61/100\n",
            "50000/50000 [==============================] - 3s 63us/sample - loss: 0.7660 - sparse_categorical_accuracy: 0.7239\n",
            "Epoch 62/100\n",
            "50000/50000 [==============================] - 3s 62us/sample - loss: 0.7537 - sparse_categorical_accuracy: 0.7280\n",
            "Epoch 63/100\n",
            "50000/50000 [==============================] - 3s 61us/sample - loss: 0.7526 - sparse_categorical_accuracy: 0.7279\n",
            "Epoch 64/100\n",
            "50000/50000 [==============================] - 3s 61us/sample - loss: 0.7381 - sparse_categorical_accuracy: 0.7311\n",
            "Epoch 65/100\n",
            "50000/50000 [==============================] - 3s 62us/sample - loss: 0.7453 - sparse_categorical_accuracy: 0.7330\n",
            "Epoch 66/100\n",
            "50000/50000 [==============================] - 3s 61us/sample - loss: 0.7303 - sparse_categorical_accuracy: 0.7382\n",
            "Epoch 67/100\n",
            "50000/50000 [==============================] - 3s 64us/sample - loss: 0.7213 - sparse_categorical_accuracy: 0.7383\n",
            "Epoch 68/100\n",
            "50000/50000 [==============================] - 3s 64us/sample - loss: 0.7211 - sparse_categorical_accuracy: 0.7388\n",
            "Epoch 69/100\n",
            "50000/50000 [==============================] - 3s 61us/sample - loss: 0.7108 - sparse_categorical_accuracy: 0.7448\n",
            "Epoch 70/100\n",
            "50000/50000 [==============================] - 3s 64us/sample - loss: 0.7100 - sparse_categorical_accuracy: 0.7450\n",
            "Epoch 71/100\n",
            "50000/50000 [==============================] - 3s 61us/sample - loss: 0.7010 - sparse_categorical_accuracy: 0.7476\n",
            "Epoch 72/100\n",
            "50000/50000 [==============================] - 3s 62us/sample - loss: 0.7095 - sparse_categorical_accuracy: 0.7462\n",
            "Epoch 73/100\n",
            "50000/50000 [==============================] - 3s 61us/sample - loss: 0.6946 - sparse_categorical_accuracy: 0.7496\n",
            "Epoch 74/100\n",
            "50000/50000 [==============================] - 3s 60us/sample - loss: 0.6913 - sparse_categorical_accuracy: 0.7514\n",
            "Epoch 75/100\n",
            "50000/50000 [==============================] - 3s 61us/sample - loss: 0.6817 - sparse_categorical_accuracy: 0.7539\n",
            "Epoch 76/100\n",
            "50000/50000 [==============================] - 3s 61us/sample - loss: 0.6917 - sparse_categorical_accuracy: 0.7512\n",
            "Epoch 77/100\n",
            "50000/50000 [==============================] - 3s 62us/sample - loss: 0.6784 - sparse_categorical_accuracy: 0.7543\n",
            "Epoch 78/100\n",
            "50000/50000 [==============================] - 3s 61us/sample - loss: 0.6739 - sparse_categorical_accuracy: 0.7564\n",
            "Epoch 79/100\n",
            "50000/50000 [==============================] - 3s 62us/sample - loss: 0.6652 - sparse_categorical_accuracy: 0.7595\n",
            "Epoch 80/100\n",
            "50000/50000 [==============================] - 3s 61us/sample - loss: 0.6637 - sparse_categorical_accuracy: 0.7615\n",
            "Epoch 81/100\n",
            "50000/50000 [==============================] - 3s 61us/sample - loss: 0.6567 - sparse_categorical_accuracy: 0.7636\n",
            "Epoch 82/100\n",
            "50000/50000 [==============================] - 3s 61us/sample - loss: 0.6550 - sparse_categorical_accuracy: 0.7646\n",
            "Epoch 83/100\n",
            "50000/50000 [==============================] - 3s 63us/sample - loss: 0.6551 - sparse_categorical_accuracy: 0.7623\n",
            "Epoch 84/100\n",
            "50000/50000 [==============================] - 3s 62us/sample - loss: 0.6480 - sparse_categorical_accuracy: 0.7651\n",
            "Epoch 85/100\n",
            "50000/50000 [==============================] - 3s 61us/sample - loss: 0.6425 - sparse_categorical_accuracy: 0.7686\n",
            "Epoch 86/100\n",
            "50000/50000 [==============================] - 3s 61us/sample - loss: 0.6396 - sparse_categorical_accuracy: 0.7700\n",
            "Epoch 87/100\n",
            "50000/50000 [==============================] - 3s 61us/sample - loss: 0.6377 - sparse_categorical_accuracy: 0.7695\n",
            "Epoch 88/100\n",
            "50000/50000 [==============================] - 3s 63us/sample - loss: 0.6363 - sparse_categorical_accuracy: 0.7711\n",
            "Epoch 89/100\n",
            "50000/50000 [==============================] - 3s 64us/sample - loss: 0.6318 - sparse_categorical_accuracy: 0.7740\n",
            "Epoch 90/100\n",
            "50000/50000 [==============================] - 3s 61us/sample - loss: 0.6189 - sparse_categorical_accuracy: 0.7759\n",
            "Epoch 91/100\n",
            "50000/50000 [==============================] - 3s 61us/sample - loss: 0.6198 - sparse_categorical_accuracy: 0.7763\n",
            "Epoch 92/100\n",
            "50000/50000 [==============================] - 3s 62us/sample - loss: 0.6216 - sparse_categorical_accuracy: 0.7748\n",
            "Epoch 93/100\n",
            "50000/50000 [==============================] - 3s 62us/sample - loss: 0.6217 - sparse_categorical_accuracy: 0.7756\n",
            "Epoch 94/100\n",
            "50000/50000 [==============================] - 3s 61us/sample - loss: 0.6085 - sparse_categorical_accuracy: 0.7814\n",
            "Epoch 95/100\n",
            "50000/50000 [==============================] - 3s 61us/sample - loss: 0.6076 - sparse_categorical_accuracy: 0.7802\n",
            "Epoch 96/100\n",
            "50000/50000 [==============================] - 3s 60us/sample - loss: 0.6111 - sparse_categorical_accuracy: 0.7809\n",
            "Epoch 97/100\n",
            "50000/50000 [==============================] - 3s 62us/sample - loss: 0.6053 - sparse_categorical_accuracy: 0.7819\n",
            "Epoch 98/100\n",
            "50000/50000 [==============================] - 3s 62us/sample - loss: 0.6123 - sparse_categorical_accuracy: 0.7810\n",
            "Epoch 99/100\n",
            "50000/50000 [==============================] - 3s 62us/sample - loss: 0.6022 - sparse_categorical_accuracy: 0.7820\n",
            "Epoch 100/100\n",
            "50000/50000 [==============================] - 3s 62us/sample - loss: 0.5945 - sparse_categorical_accuracy: 0.7863\n",
            "CPU times: user 6min 12s, sys: 41.6 s, total: 6min 54s\n",
            "Wall time: 5min 11s\n"
          ],
          "name": "stdout"
        },
        {
          "output_type": "execute_result",
          "data": {
            "text/plain": [
              "<tensorflow.python.keras.callbacks.History at 0x7feb268c0a20>"
            ]
          },
          "metadata": {
            "tags": []
          },
          "execution_count": 16
        }
      ]
    },
    {
      "cell_type": "code",
      "metadata": {
        "id": "bydoHYQGH_2_",
        "colab_type": "code",
        "outputId": "24977ec3-42d0-493b-9e10-b3715bbb7a12",
        "colab": {
          "base_uri": "https://localhost:8080/",
          "height": 34
        }
      },
      "source": [
        "x_test.shape"
      ],
      "execution_count": 0,
      "outputs": [
        {
          "output_type": "execute_result",
          "data": {
            "text/plain": [
              "(10000, 32, 32, 3)"
            ]
          },
          "metadata": {
            "tags": []
          },
          "execution_count": 44
        }
      ]
    },
    {
      "cell_type": "code",
      "metadata": {
        "id": "GJw-ZvG6If8G",
        "colab_type": "code",
        "outputId": "1c4d17de-38c9-43ee-8d51-32b197e62c90",
        "colab": {
          "base_uri": "https://localhost:8080/",
          "height": 34
        }
      },
      "source": [
        "x_test = x_test.reshape((10000, 32*32*3))\n",
        "x_test.shape"
      ],
      "execution_count": 0,
      "outputs": [
        {
          "output_type": "execute_result",
          "data": {
            "text/plain": [
              "(10000, 3072)"
            ]
          },
          "metadata": {
            "tags": []
          },
          "execution_count": 45
        }
      ]
    },
    {
      "cell_type": "code",
      "metadata": {
        "id": "myF5Q4TDKNge",
        "colab_type": "code",
        "outputId": "89187efd-5273-4866-93d1-7d66246cad20",
        "colab": {
          "base_uri": "https://localhost:8080/",
          "height": 34
        }
      },
      "source": [
        "y_test.shape"
      ],
      "execution_count": 0,
      "outputs": [
        {
          "output_type": "execute_result",
          "data": {
            "text/plain": [
              "(10000, 1)"
            ]
          },
          "metadata": {
            "tags": []
          },
          "execution_count": 46
        }
      ]
    },
    {
      "cell_type": "code",
      "metadata": {
        "id": "WFNgApAFKPdp",
        "colab_type": "code",
        "outputId": "3a3f3754-2d27-462f-8cbf-5b9d87f50245",
        "colab": {
          "base_uri": "https://localhost:8080/",
          "height": 34
        }
      },
      "source": [
        "y_test = y_test.reshape((10000))\n",
        "y_test.shape"
      ],
      "execution_count": 0,
      "outputs": [
        {
          "output_type": "execute_result",
          "data": {
            "text/plain": [
              "(10000,)"
            ]
          },
          "metadata": {
            "tags": []
          },
          "execution_count": 47
        }
      ]
    },
    {
      "cell_type": "code",
      "metadata": {
        "id": "WxS_027NKbM8",
        "colab_type": "code",
        "outputId": "6e8c4eaf-5e54-4c2b-82e0-5a118a511fd2",
        "colab": {
          "base_uri": "https://localhost:8080/",
          "height": 34
        }
      },
      "source": [
        "#evaluate the keras model   verbose to visua0lize    here _ belongs to the train accuracy\n",
        "_, test_accuracy = model.evaluate(x_test, y_test, verbose=1)"
      ],
      "execution_count": 0,
      "outputs": [
        {
          "output_type": "stream",
          "text": [
            "10000/10000 [==============================] - 1s 75us/sample - loss: 1.6246 - sparse_categorical_accuracy: 0.4873\n"
          ],
          "name": "stdout"
        }
      ]
    },
    {
      "cell_type": "code",
      "metadata": {
        "id": "0fr7Y3FzKg3K",
        "colab_type": "code",
        "outputId": "a4b925d2-e48b-434e-c0c1-185ef04499f3",
        "colab": {
          "base_uri": "https://localhost:8080/",
          "height": 34
        }
      },
      "source": [
        "_"
      ],
      "execution_count": 0,
      "outputs": [
        {
          "output_type": "execute_result",
          "data": {
            "text/plain": [
              "1.6246243492126464"
            ]
          },
          "metadata": {
            "tags": []
          },
          "execution_count": 49
        }
      ]
    },
    {
      "cell_type": "code",
      "metadata": {
        "id": "GAjWCerkKiWs",
        "colab_type": "code",
        "colab": {}
      },
      "source": [
        ""
      ],
      "execution_count": 0,
      "outputs": []
    },
    {
      "cell_type": "code",
      "metadata": {
        "id": "sbkgV783K_mU",
        "colab_type": "code",
        "colab": {}
      },
      "source": [
        ""
      ],
      "execution_count": 0,
      "outputs": []
    },
    {
      "cell_type": "code",
      "metadata": {
        "id": "6j1ClRyXK_W3",
        "colab_type": "code",
        "colab": {}
      },
      "source": [
        ""
      ],
      "execution_count": 0,
      "outputs": []
    },
    {
      "cell_type": "code",
      "metadata": {
        "id": "hx6onEYAK_KR",
        "colab_type": "code",
        "colab": {}
      },
      "source": [
        ""
      ],
      "execution_count": 0,
      "outputs": []
    },
    {
      "cell_type": "code",
      "metadata": {
        "id": "vG3hFCSBK-yW",
        "colab_type": "code",
        "colab": {}
      },
      "source": [
        ""
      ],
      "execution_count": 0,
      "outputs": []
    },
    {
      "cell_type": "markdown",
      "metadata": {
        "id": "hPVUA8ldLBd2",
        "colab_type": "text"
      },
      "source": [
        "by using model = functional"
      ]
    },
    {
      "cell_type": "code",
      "metadata": {
        "id": "WhzfXK5-LGb3",
        "colab_type": "code",
        "colab": {}
      },
      "source": [
        "from tensorflow.keras.models import Model\n",
        "from tensorflow.keras.layers import Input, Dense, Dropout\n",
        "x1 = Input(shape=(3072,))\n",
        "h1 = Dense(1000, activation = 'relu')(x1)\n",
        "d1 = Dropout(0.25)(h1)\n",
        "hidden2 = Dense(4, activation = 'softmax')(d1)\n",
        "output = Dense(10, activation = 'softmax')(hidden2)\n",
        "model = Model(inputs = x1, outputs = output)"
      ],
      "execution_count": 0,
      "outputs": []
    },
    {
      "cell_type": "code",
      "metadata": {
        "id": "wJkO0GakMPGm",
        "colab_type": "code",
        "colab": {}
      },
      "source": [
        "#compile the keras model    #so its binary we use binary_crossentropy..if it is multiclass we use categorical_crossentropy\n",
        "model.compile(loss = 'sparse_categorical_crossentropy',optimizer = 'adam',metrics = ['sparse_categorical_accuracy'])   #instead of accuracy we can use sparse_categorical_accuracy\n",
        "#sparse_categorical_crossentropy is used when the input has more zeros"
      ],
      "execution_count": 0,
      "outputs": []
    },
    {
      "cell_type": "code",
      "metadata": {
        "id": "R8fzNlE1Mb2-",
        "colab_type": "code",
        "outputId": "78f66e51-6ec0-4215-af6f-cf9066c05873",
        "colab": {
          "base_uri": "https://localhost:8080/",
          "height": 1000
        }
      },
      "source": [
        "%%time\n",
        "# fit the keras_model on the dataset\n",
        "model.fit(x_train,y_train, epochs = 100, batch_size = 64)"
      ],
      "execution_count": 0,
      "outputs": [
        {
          "output_type": "stream",
          "text": [
            "Train on 50000 samples\n",
            "Epoch 1/100\n",
            "50000/50000 [==============================] - 3s 55us/sample - loss: 2.3156 - sparse_categorical_accuracy: 0.1001\n",
            "Epoch 2/100\n",
            "50000/50000 [==============================] - 3s 54us/sample - loss: 2.3029 - sparse_categorical_accuracy: 0.0978\n",
            "Epoch 3/100\n",
            "50000/50000 [==============================] - 3s 55us/sample - loss: 2.3028 - sparse_categorical_accuracy: 0.0992\n",
            "Epoch 4/100\n",
            "50000/50000 [==============================] - 3s 55us/sample - loss: 2.3028 - sparse_categorical_accuracy: 0.0992\n",
            "Epoch 5/100\n",
            "50000/50000 [==============================] - 3s 54us/sample - loss: 2.3028 - sparse_categorical_accuracy: 0.1009\n",
            "Epoch 6/100\n",
            "50000/50000 [==============================] - 3s 51us/sample - loss: 2.3029 - sparse_categorical_accuracy: 0.0962\n",
            "Epoch 7/100\n",
            "50000/50000 [==============================] - 3s 52us/sample - loss: 2.3029 - sparse_categorical_accuracy: 0.0985\n",
            "Epoch 8/100\n",
            "50000/50000 [==============================] - 3s 51us/sample - loss: 2.3029 - sparse_categorical_accuracy: 0.0984\n",
            "Epoch 9/100\n",
            "50000/50000 [==============================] - 3s 51us/sample - loss: 2.3028 - sparse_categorical_accuracy: 0.0978\n",
            "Epoch 10/100\n",
            "50000/50000 [==============================] - 3s 51us/sample - loss: 2.3029 - sparse_categorical_accuracy: 0.0977\n",
            "Epoch 11/100\n",
            "50000/50000 [==============================] - 3s 51us/sample - loss: 2.3029 - sparse_categorical_accuracy: 0.0973\n",
            "Epoch 12/100\n",
            "50000/50000 [==============================] - 3s 51us/sample - loss: 2.3029 - sparse_categorical_accuracy: 0.0966\n",
            "Epoch 13/100\n",
            "50000/50000 [==============================] - 3s 51us/sample - loss: 2.3029 - sparse_categorical_accuracy: 0.0993\n",
            "Epoch 14/100\n",
            "50000/50000 [==============================] - 3s 52us/sample - loss: 2.3029 - sparse_categorical_accuracy: 0.0965\n",
            "Epoch 15/100\n",
            "50000/50000 [==============================] - 3s 52us/sample - loss: 2.3028 - sparse_categorical_accuracy: 0.1000\n",
            "Epoch 16/100\n",
            "50000/50000 [==============================] - 3s 52us/sample - loss: 2.3028 - sparse_categorical_accuracy: 0.0979\n",
            "Epoch 17/100\n",
            "50000/50000 [==============================] - 3s 53us/sample - loss: 2.3028 - sparse_categorical_accuracy: 0.0983\n",
            "Epoch 18/100\n",
            "50000/50000 [==============================] - 3s 51us/sample - loss: 2.3029 - sparse_categorical_accuracy: 0.0987\n",
            "Epoch 19/100\n",
            "50000/50000 [==============================] - 3s 52us/sample - loss: 2.3028 - sparse_categorical_accuracy: 0.0990\n",
            "Epoch 20/100\n",
            "50000/50000 [==============================] - 3s 51us/sample - loss: 2.3028 - sparse_categorical_accuracy: 0.1001\n",
            "Epoch 21/100\n",
            "50000/50000 [==============================] - 3s 51us/sample - loss: 2.3028 - sparse_categorical_accuracy: 0.0998\n",
            "Epoch 22/100\n",
            "50000/50000 [==============================] - 3s 51us/sample - loss: 2.3029 - sparse_categorical_accuracy: 0.0971\n",
            "Epoch 23/100\n",
            "50000/50000 [==============================] - 3s 51us/sample - loss: 2.3029 - sparse_categorical_accuracy: 0.0981\n",
            "Epoch 24/100\n",
            "50000/50000 [==============================] - 3s 51us/sample - loss: 2.3029 - sparse_categorical_accuracy: 0.1004\n",
            "Epoch 25/100\n",
            "50000/50000 [==============================] - 3s 51us/sample - loss: 2.3028 - sparse_categorical_accuracy: 0.0996\n",
            "Epoch 26/100\n",
            "50000/50000 [==============================] - 3s 51us/sample - loss: 2.3028 - sparse_categorical_accuracy: 0.1006\n",
            "Epoch 27/100\n",
            "50000/50000 [==============================] - 3s 52us/sample - loss: 2.3028 - sparse_categorical_accuracy: 0.0986\n",
            "Epoch 28/100\n",
            "50000/50000 [==============================] - 3s 53us/sample - loss: 2.3029 - sparse_categorical_accuracy: 0.0969\n",
            "Epoch 29/100\n",
            "50000/50000 [==============================] - 3s 53us/sample - loss: 2.3028 - sparse_categorical_accuracy: 0.0999\n",
            "Epoch 30/100\n",
            "50000/50000 [==============================] - 3s 51us/sample - loss: 2.3029 - sparse_categorical_accuracy: 0.0966\n",
            "Epoch 31/100\n",
            "50000/50000 [==============================] - 3s 51us/sample - loss: 2.3028 - sparse_categorical_accuracy: 0.1001\n",
            "Epoch 32/100\n",
            "50000/50000 [==============================] - 3s 51us/sample - loss: 2.3029 - sparse_categorical_accuracy: 0.0978\n",
            "Epoch 33/100\n",
            "50000/50000 [==============================] - 3s 51us/sample - loss: 2.3028 - sparse_categorical_accuracy: 0.0985\n",
            "Epoch 34/100\n",
            "50000/50000 [==============================] - 3s 51us/sample - loss: 2.3028 - sparse_categorical_accuracy: 0.1009\n",
            "Epoch 35/100\n",
            "50000/50000 [==============================] - 2s 50us/sample - loss: 2.3029 - sparse_categorical_accuracy: 0.0966\n",
            "Epoch 36/100\n",
            "50000/50000 [==============================] - 2s 50us/sample - loss: 2.3029 - sparse_categorical_accuracy: 0.0985\n",
            "Epoch 37/100\n",
            "50000/50000 [==============================] - 3s 51us/sample - loss: 2.3028 - sparse_categorical_accuracy: 0.0993\n",
            "Epoch 38/100\n",
            "50000/50000 [==============================] - 3s 50us/sample - loss: 2.3028 - sparse_categorical_accuracy: 0.0992\n",
            "Epoch 39/100\n",
            "50000/50000 [==============================] - 3s 51us/sample - loss: 2.3028 - sparse_categorical_accuracy: 0.0990\n",
            "Epoch 40/100\n",
            "50000/50000 [==============================] - 3s 52us/sample - loss: 2.3028 - sparse_categorical_accuracy: 0.0982\n",
            "Epoch 41/100\n",
            "50000/50000 [==============================] - 3s 51us/sample - loss: 2.3029 - sparse_categorical_accuracy: 0.0986\n",
            "Epoch 42/100\n",
            "50000/50000 [==============================] - 3s 51us/sample - loss: 2.3028 - sparse_categorical_accuracy: 0.1007\n",
            "Epoch 43/100\n",
            "50000/50000 [==============================] - 3s 51us/sample - loss: 2.3028 - sparse_categorical_accuracy: 0.0982\n",
            "Epoch 44/100\n",
            "50000/50000 [==============================] - 3s 52us/sample - loss: 2.3028 - sparse_categorical_accuracy: 0.0977\n",
            "Epoch 45/100\n",
            "50000/50000 [==============================] - 3s 51us/sample - loss: 2.3028 - sparse_categorical_accuracy: 0.0987\n",
            "Epoch 46/100\n",
            "50000/50000 [==============================] - 3s 52us/sample - loss: 2.3029 - sparse_categorical_accuracy: 0.0990\n",
            "Epoch 47/100\n",
            "50000/50000 [==============================] - 3s 52us/sample - loss: 2.3028 - sparse_categorical_accuracy: 0.0994\n",
            "Epoch 48/100\n",
            "50000/50000 [==============================] - 3s 52us/sample - loss: 2.3029 - sparse_categorical_accuracy: 0.0996\n",
            "Epoch 49/100\n",
            "50000/50000 [==============================] - 3s 52us/sample - loss: 2.3029 - sparse_categorical_accuracy: 0.0956\n",
            "Epoch 50/100\n",
            "50000/50000 [==============================] - 3s 50us/sample - loss: 2.3028 - sparse_categorical_accuracy: 0.0974\n",
            "Epoch 51/100\n",
            "50000/50000 [==============================] - 3s 50us/sample - loss: 2.3028 - sparse_categorical_accuracy: 0.1002\n",
            "Epoch 52/100\n",
            "50000/50000 [==============================] - 3s 52us/sample - loss: 2.3028 - sparse_categorical_accuracy: 0.0983\n",
            "Epoch 53/100\n",
            "50000/50000 [==============================] - 3s 51us/sample - loss: 2.3028 - sparse_categorical_accuracy: 0.0962\n",
            "Epoch 54/100\n",
            "50000/50000 [==============================] - 3s 51us/sample - loss: 2.3028 - sparse_categorical_accuracy: 0.0986\n",
            "Epoch 55/100\n",
            "50000/50000 [==============================] - 3s 52us/sample - loss: 2.3029 - sparse_categorical_accuracy: 0.0981\n",
            "Epoch 56/100\n",
            "50000/50000 [==============================] - 3s 51us/sample - loss: 2.3028 - sparse_categorical_accuracy: 0.0995\n",
            "Epoch 57/100\n",
            "50000/50000 [==============================] - 3s 51us/sample - loss: 2.3028 - sparse_categorical_accuracy: 0.0986\n",
            "Epoch 58/100\n",
            "50000/50000 [==============================] - 3s 51us/sample - loss: 2.3029 - sparse_categorical_accuracy: 0.1005\n",
            "Epoch 59/100\n",
            "50000/50000 [==============================] - 3s 53us/sample - loss: 2.3029 - sparse_categorical_accuracy: 0.0971\n",
            "Epoch 60/100\n",
            "50000/50000 [==============================] - 3s 53us/sample - loss: 2.3028 - sparse_categorical_accuracy: 0.0976\n",
            "Epoch 61/100\n",
            "50000/50000 [==============================] - 3s 53us/sample - loss: 2.3029 - sparse_categorical_accuracy: 0.0982\n",
            "Epoch 62/100\n",
            "50000/50000 [==============================] - 3s 51us/sample - loss: 2.3028 - sparse_categorical_accuracy: 0.0945\n",
            "Epoch 63/100\n",
            "50000/50000 [==============================] - 3s 51us/sample - loss: 2.3028 - sparse_categorical_accuracy: 0.0997\n",
            "Epoch 64/100\n",
            "50000/50000 [==============================] - 3s 51us/sample - loss: 2.3029 - sparse_categorical_accuracy: 0.0990\n",
            "Epoch 65/100\n",
            "50000/50000 [==============================] - 3s 52us/sample - loss: 2.3028 - sparse_categorical_accuracy: 0.0971\n",
            "Epoch 66/100\n",
            "50000/50000 [==============================] - 3s 51us/sample - loss: 2.3028 - sparse_categorical_accuracy: 0.0998\n",
            "Epoch 67/100\n",
            "50000/50000 [==============================] - 3s 51us/sample - loss: 2.3029 - sparse_categorical_accuracy: 0.0986\n",
            "Epoch 68/100\n",
            "50000/50000 [==============================] - 3s 51us/sample - loss: 2.3028 - sparse_categorical_accuracy: 0.0990\n",
            "Epoch 69/100\n",
            "50000/50000 [==============================] - 3s 51us/sample - loss: 2.3028 - sparse_categorical_accuracy: 0.0969\n",
            "Epoch 70/100\n",
            "50000/50000 [==============================] - 3s 50us/sample - loss: 2.3029 - sparse_categorical_accuracy: 0.0976\n",
            "Epoch 71/100\n",
            "50000/50000 [==============================] - 2s 50us/sample - loss: 2.3028 - sparse_categorical_accuracy: 0.0995\n",
            "Epoch 72/100\n",
            "50000/50000 [==============================] - 3s 50us/sample - loss: 2.3029 - sparse_categorical_accuracy: 0.0986\n",
            "Epoch 73/100\n",
            "50000/50000 [==============================] - 3s 50us/sample - loss: 2.3029 - sparse_categorical_accuracy: 0.0966\n",
            "Epoch 74/100\n",
            "50000/50000 [==============================] - 3s 50us/sample - loss: 2.3028 - sparse_categorical_accuracy: 0.0973\n",
            "Epoch 75/100\n",
            "50000/50000 [==============================] - 3s 52us/sample - loss: 2.3028 - sparse_categorical_accuracy: 0.0960\n",
            "Epoch 76/100\n",
            "50000/50000 [==============================] - 3s 51us/sample - loss: 2.3028 - sparse_categorical_accuracy: 0.0988\n",
            "Epoch 77/100\n",
            "50000/50000 [==============================] - 3s 52us/sample - loss: 2.3028 - sparse_categorical_accuracy: 0.0974\n",
            "Epoch 78/100\n",
            "50000/50000 [==============================] - 3s 53us/sample - loss: 2.3028 - sparse_categorical_accuracy: 0.1002\n",
            "Epoch 79/100\n",
            "50000/50000 [==============================] - 3s 52us/sample - loss: 2.3028 - sparse_categorical_accuracy: 0.0993\n",
            "Epoch 80/100\n",
            "50000/50000 [==============================] - 3s 50us/sample - loss: 2.3029 - sparse_categorical_accuracy: 0.0979\n",
            "Epoch 81/100\n",
            "50000/50000 [==============================] - 3s 52us/sample - loss: 2.3028 - sparse_categorical_accuracy: 0.0975\n",
            "Epoch 82/100\n",
            "50000/50000 [==============================] - 3s 51us/sample - loss: 2.3028 - sparse_categorical_accuracy: 0.0970\n",
            "Epoch 83/100\n",
            "50000/50000 [==============================] - 3s 51us/sample - loss: 2.3028 - sparse_categorical_accuracy: 0.1016\n",
            "Epoch 84/100\n",
            "50000/50000 [==============================] - 3s 52us/sample - loss: 2.3029 - sparse_categorical_accuracy: 0.0982\n",
            "Epoch 85/100\n",
            "50000/50000 [==============================] - 3s 51us/sample - loss: 2.3028 - sparse_categorical_accuracy: 0.0987\n",
            "Epoch 86/100\n",
            "50000/50000 [==============================] - 3s 51us/sample - loss: 2.3028 - sparse_categorical_accuracy: 0.0978\n",
            "Epoch 87/100\n",
            "50000/50000 [==============================] - 3s 52us/sample - loss: 2.3029 - sparse_categorical_accuracy: 0.0998\n",
            "Epoch 88/100\n",
            "50000/50000 [==============================] - 3s 51us/sample - loss: 2.3028 - sparse_categorical_accuracy: 0.0981\n",
            "Epoch 89/100\n",
            "50000/50000 [==============================] - 3s 52us/sample - loss: 2.3028 - sparse_categorical_accuracy: 0.0984\n",
            "Epoch 90/100\n",
            "50000/50000 [==============================] - 3s 52us/sample - loss: 2.3029 - sparse_categorical_accuracy: 0.0976\n",
            "Epoch 91/100\n",
            "50000/50000 [==============================] - 3s 52us/sample - loss: 2.3028 - sparse_categorical_accuracy: 0.0993\n",
            "Epoch 92/100\n",
            "50000/50000 [==============================] - 3s 51us/sample - loss: 2.3028 - sparse_categorical_accuracy: 0.0996\n",
            "Epoch 93/100\n",
            "50000/50000 [==============================] - 3s 51us/sample - loss: 2.3029 - sparse_categorical_accuracy: 0.0970\n",
            "Epoch 94/100\n",
            "50000/50000 [==============================] - 3s 51us/sample - loss: 2.3028 - sparse_categorical_accuracy: 0.0992\n",
            "Epoch 95/100\n",
            "50000/50000 [==============================] - 3s 50us/sample - loss: 2.3029 - sparse_categorical_accuracy: 0.0987\n",
            "Epoch 96/100\n",
            "50000/50000 [==============================] - 3s 50us/sample - loss: 2.3028 - sparse_categorical_accuracy: 0.1000\n",
            "Epoch 97/100\n",
            "50000/50000 [==============================] - 3s 51us/sample - loss: 2.3028 - sparse_categorical_accuracy: 0.1002\n",
            "Epoch 98/100\n",
            "50000/50000 [==============================] - 3s 51us/sample - loss: 2.3029 - sparse_categorical_accuracy: 0.0983\n",
            "Epoch 99/100\n",
            "50000/50000 [==============================] - 3s 52us/sample - loss: 2.3029 - sparse_categorical_accuracy: 0.0982\n",
            "Epoch 100/100\n",
            "50000/50000 [==============================] - 2s 50us/sample - loss: 2.3029 - sparse_categorical_accuracy: 0.0958\n",
            "CPU times: user 4min 40s, sys: 34.2 s, total: 5min 14s\n",
            "Wall time: 4min 18s\n"
          ],
          "name": "stdout"
        },
        {
          "output_type": "execute_result",
          "data": {
            "text/plain": [
              "<tensorflow.python.keras.callbacks.History at 0x7ff6746e4a20>"
            ]
          },
          "metadata": {
            "tags": []
          },
          "execution_count": 53
        }
      ]
    },
    {
      "cell_type": "code",
      "metadata": {
        "id": "OXNSNhDNMhGG",
        "colab_type": "code",
        "colab": {}
      },
      "source": [
        ""
      ],
      "execution_count": 0,
      "outputs": []
    }
  ]
}